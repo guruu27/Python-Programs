{
  "nbformat": 4,
  "nbformat_minor": 0,
  "metadata": {
    "colab": {
      "provenance": []
    },
    "kernelspec": {
      "name": "python3",
      "display_name": "Python 3"
    },
    "language_info": {
      "name": "python"
    }
  },
  "cells": [
    {
      "cell_type": "markdown",
      "source": [
        "Do not use any of Python functions:\n",
        "\n",
        "\n",
        "\n",
        "A-Write a Python program to check if a number is a perfect square\n",
        "\n",
        "\n",
        "\n",
        "B- Write a Python program to find a missing number from a list.\n",
        "Input : [1,2,3,4,6,7,8]\n",
        "\n",
        "\n",
        "Output : 5\n",
        "\n",
        "\n",
        "\n",
        "C- Write a Python program to find the single number in a list that doesn't occur twice.\n",
        "Input : [5, 3, 4, 3, 4]\n",
        "\n",
        "\n",
        "Output : 5"
      ],
      "metadata": {
        "id": "-YVB9XycTB-4"
      }
    },
    {
      "cell_type": "code",
      "execution_count": 11,
      "metadata": {
        "id": "CC6ui6wvS-6c",
        "colab": {
          "base_uri": "https://localhost:8080/"
        },
        "outputId": "bec5abaf-f181-4ad5-b9e3-7787e3577a6c"
      },
      "outputs": [
        {
          "output_type": "stream",
          "name": "stdout",
          "text": [
            "Yes it is a perfect Square\n"
          ]
        }
      ],
      "source": [
        "#Write a Python program to check if a number is a perfect square\n",
        "\n",
        "class Solution:\n",
        "  def square(self, n):\n",
        "    for i in range(1,n+1):\n",
        "      if i*i<=n:\n",
        "        if (n%i==0 and n/i==i):\n",
        "          return True\n",
        "    return False\n",
        "\n",
        "  def check(self, n):\n",
        "    if self.square(n):\n",
        "      print( \"Yes it is a perfect Square\")\n",
        "    elif n==0:\n",
        "      print(\"Yes it is a perfect Square\")\n",
        "    else:\n",
        "      print(\" It is not a perfect Square\")\n",
        "\n",
        "s= Solution()\n",
        "r= s.check(9)"
      ]
    },
    {
      "cell_type": "code",
      "source": [
        "#Write a Python program to find a missing number from a list.\n",
        "\n",
        "class Solutionone:\n",
        "  def missingnumber(self, l):\n",
        "    n=l[0]\n",
        "    for i in l:\n",
        "      if i==n:\n",
        "        pass\n",
        "      else:\n",
        "        print(n)\n",
        "        n+=2\n",
        "        continue\n",
        "      n+=1\n",
        "    return n\n",
        "\n",
        "\n",
        "s= Solutionone()\n",
        "ip= [1,2,3,4,6,7,9,10,11,12,13,15]\n",
        "res= s.missingnumber(ip)"
      ],
      "metadata": {
        "colab": {
          "base_uri": "https://localhost:8080/"
        },
        "id": "jxlPzuvtd-9c",
        "outputId": "ba0ecf2a-d400-4246-e511-eec3f099ed68"
      },
      "execution_count": 16,
      "outputs": [
        {
          "output_type": "stream",
          "name": "stdout",
          "text": [
            "5\n",
            "8\n",
            "14\n"
          ]
        }
      ]
    },
    {
      "cell_type": "code",
      "source": [
        "# Write a Python program to find the single number in a list that doesn't occur twice\n",
        "class Solutiontwo:\n",
        "  def nosecondoccurence(self, l):\n",
        "    n= len(l)\n",
        "    for i in range(len(l)):\n",
        "\n",
        "      for j in range(len(l)):\n",
        "        if i!=j and l[j]==l[i]:\n",
        "          return True\n",
        "        else:\n",
        "          print(l[i])\n",
        "          return False\n",
        "\n",
        "\n",
        "s= Solutiontwo()\n",
        "ip= [5,4,4,7,8,8,7]\n",
        "res= s.nosecondoccurence(ip)"
      ],
      "metadata": {
        "colab": {
          "base_uri": "https://localhost:8080/"
        },
        "id": "RZaRioKJgKsy",
        "outputId": "fb8ea28c-cc36-49fe-d072-d4ea7fb804a7"
      },
      "execution_count": 62,
      "outputs": [
        {
          "output_type": "stream",
          "name": "stdout",
          "text": [
            "5\n"
          ]
        }
      ]
    },
    {
      "cell_type": "code",
      "source": [],
      "metadata": {
        "id": "X8E5dtR913y4"
      },
      "execution_count": null,
      "outputs": []
    }
  ]
}