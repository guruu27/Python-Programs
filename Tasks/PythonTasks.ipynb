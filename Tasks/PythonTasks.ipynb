{
 "cells": [
  {
   "cell_type": "markdown",
   "id": "ad43ac01",
   "metadata": {},
   "source": [
   ]
  },
  {
   "cell_type": "code",
   "execution_count": 1,
   "id": "e1f596bb",
   "metadata": {},
   "outputs": [
    {
     "name": "stdout",
     "output_type": "stream",
     "text": [
      "The original text \"cheer\" encrypted with a shift of 7 is: \"jolly\"\n"
     ]
    }
   ],
   "source": [
    "#Task 1\n",
    "\n",
    "def caesar_cipher(text, shift):\n",
    "    result = \"\"\n",
    "\n",
    "    for char in text:\n",
    "        if char.isalpha():  # Check if the character is a letter\n",
    "            # Determine whether it's an uppercase or lowercase letter\n",
    "            is_upper = char.isupper()\n",
    "            \n",
    "            # Convert the character to its ASCII code\n",
    "            ascii_code = ord(char)\n",
    "            \n",
    "            # Apply the shift and ensure it wraps around the alphabet\n",
    "            shifted_code = (ascii_code - ord('A' if is_upper else 'a') + shift) % 26\n",
    "            \n",
    "            # Convert the shifted code back to a character\n",
    "            shifted_char = chr(shifted_code + ord('A' if is_upper else 'a'))\n",
    "            \n",
    "            result += shifted_char\n",
    "        else:\n",
    "            result += char  # Keep non-alphabetic characters unchanged\n",
    "\n",
    "    return result\n",
    "\n",
    "# Example usage:\n",
    "original_text = \"cheer\"\n",
    "shift_amount = 7\n",
    "\n",
    "encrypted_text = caesar_cipher(original_text, shift_amount)\n",
    "print(f'The original text \"{original_text}\" encrypted with a shift of {shift_amount} is: \"{encrypted_text}\"')\n"
   ]
  },
  {
   "cell_type": "code",
   "execution_count": 2,
   "id": "585231e5",
   "metadata": {},
   "outputs": [
    {
     "name": "stdout",
     "output_type": "stream",
     "text": [
      "True 9\n"
     ]
    }
   ],
   "source": [
    "#Task 2\n",
    "\n",
    "list= [2, 3, 5, 7, 11, 13, 17, 19, 23, 29, 31, 37, 41, 43, 47, 53, 59, 61, 67, 71, 73, 79, 83, 89, 97]\n",
    "def binarysearch(list,target):\n",
    "    min, max= 0, len(list)-1 # Defining min and max for slicing list\n",
    "    while min<=max:\n",
    "        #Checking for middle element\n",
    "        guess =(min+max)//2\n",
    "        #Updating the middle term based on target\n",
    "        if list[guess]==target:\n",
    "            return True, guess\n",
    "        elif list[guess]<target:\n",
    "            min= guess + 1\n",
    "        else:\n",
    "            max= guess - 1\n",
    "found, index = binarysearch(list,29)\n",
    "print(found,index)"
   ]
  },
  {
   "cell_type": "code",
   "execution_count": 3,
   "id": "942961ec",
   "metadata": {},
   "outputs": [
    {
     "name": "stdout",
     "output_type": "stream",
     "text": [
      "3.141592653589793\n"
     ]
    }
   ],
   "source": [
    "#Task 3\n",
    "\n",
    "import math\n",
    "\n",
    "def estimate_pi():\n",
    "    #Making a count and intializing the numbers\n",
    "    c= 2*(math.sqrt(2))/(9801)\n",
    "    n= 0\n",
    "    result = 0\n",
    "    #Summing up the values\n",
    "    while True:\n",
    "            esipi = ((math.factorial(4*n))*(1103+26390*n))/((math.factorial(n)**4)*396**(4*n))\n",
    "            result += esipi\n",
    "            final= c*esipi\n",
    "            if abs(final)<1e-15:\n",
    "                break\n",
    "            n+=1\n",
    "    #Returning the summed up value\n",
    " \n",
    "    return 1/(c*result)\n",
    "            \n",
    "print(estimate_pi())"
   ]
  },
  {
   "cell_type": "code",
   "execution_count": 4,
   "id": "a5a62df3",
   "metadata": {},
   "outputs": [
    {
     "name": "stdout",
     "output_type": "stream",
     "text": [
      "Enter the number of Pennies:8\n",
      "Enter the number of Nickels:8\n",
      "Enter the number of Dimes:8\n",
      "Enter the number of Quarters:8\n",
      "Sorry, the amount you entered was more than one dollar.\n"
     ]
    }
   ],
   "source": [
    "#Task 4\n",
    "\n",
    "#Constant value\n",
    "PENNY_VALUE = 1\n",
    "NICKEL_VALUE = 5\n",
    "DIME_VALUE = 10\n",
    "QUARTER_VALUE = 25\n",
    "PENNIES_IN_DOLLAR = 100\n",
    "\n",
    "#user Input\n",
    "numPennies = float(input(\"Enter the number of Pennies:\"))\n",
    "numNickels = float(input(\"Enter the number of Nickels:\"))\n",
    "numDimes = int(input(\"Enter the number of Dimes:\"))\n",
    "numQuarters = int(input(\"Enter the number of Quarters:\"))\n",
    "totalCentValue = (numPennies * 1) + (numNickels * 5) + (numDimes * 10) + (numQuarters * 25)\n",
    "totalDollars = totalCentValue/100\n",
    "# Determine whether user won the game:\n",
    "if totalDollars > 1.0: # The amount was more than one dollar.\n",
    "    print('Sorry, the amount you entered was more than one dollar.')\n",
    "elif totalDollars < 1.0: # The amount was less than one dollar.\n",
    "    print('Sorry, the amount you entered was less than one dollar.')\n",
    "else: # The amount was exactly one dollar.\n",
    "    print('Congratulations!')\n",
    "    print( 'The amount you entered was exactly one dollar!')\n",
    "    print( 'You win the game!')"
   ]
  },
  {
   "cell_type": "code",
   "execution_count": 5,
   "id": "71736a3e",
   "metadata": {},
   "outputs": [
    {
     "name": "stdout",
     "output_type": "stream",
     "text": [
      "Enter an integer greater than 1:5\n",
      "2 : is prime\n",
      "3 : is prime\n",
      "4 : is composite\n",
      "5 : is prime\n"
     ]
    }
   ],
   "source": [
    "#Task 5\n",
    "\n",
    "def prime_or_composite(n):\n",
    "    #setting the divisor to false\n",
    "    has_divisor= False\n",
    "    #checking while iterating the list\n",
    "    for i in range(2,n-1):\n",
    "        if n%i==0:\n",
    "            has_divisor=True\n",
    "    if has_divisor == True:\n",
    "        print(n,\": is composite\")\n",
    "    else:\n",
    "        print(n,\": is prime\")\n",
    "    return None\n",
    "\n",
    "#Taking input for checking\n",
    "user_num=int(input(\"Enter an integer greater than 1:\"))\n",
    "numbers=[]\n",
    "for i in range(2,user_num+2):\n",
    "    numbers.append(i) \n",
    "for j in range(2,len(numbers)+1):\n",
    "    prime_or_composite(j)"
   ]
  },
  {
   "cell_type": "code",
   "execution_count": 6,
   "id": "fc4abade",
   "metadata": {},
   "outputs": [
    {
     "name": "stdout",
     "output_type": "stream",
     "text": [
      "1 2 3 4 5 \n",
      "\n",
      "2 2 3 4 5 \n",
      "\n",
      "3 3 3 4 5 \n",
      "\n",
      "4 4 4 4 5 \n",
      "\n",
      "5 5 5 5 5 \n",
      "\n"
     ]
    }
   ],
   "source": [
    "#Task 6\n",
    "\n",
    "for i in range(1,6):\n",
    "    for j in range(1,6):\n",
    "        if j>i:\n",
    "            \n",
    "            print(j,end=\" \")\n",
    "        else:\n",
    "            \n",
    "            print(i,end=\" \")\n",
    "    print(\"\\n\")"
   ]
  }
 ],
 "metadata": {
  "kernelspec": {
   "display_name": "Python 3 (ipykernel)",
   "language": "python",
   "name": "python3"
  },
  "language_info": {
   "codemirror_mode": {
    "name": "ipython",
    "version": 3
   },
   "file_extension": ".py",
   "mimetype": "text/x-python",
   "name": "python",
   "nbconvert_exporter": "python",
   "pygments_lexer": "ipython3",
   "version": "3.11.4"
  }
 },
 "nbformat": 4,
 "nbformat_minor": 5
}
