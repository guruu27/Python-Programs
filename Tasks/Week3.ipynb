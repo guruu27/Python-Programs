{
  "nbformat": 4,
  "nbformat_minor": 0,
  "metadata": {
    "colab": {
      "provenance": []
    },
    "kernelspec": {
      "name": "python3",
      "display_name": "Python 3"
    },
    "language_info": {
      "name": "python"
    }
  },
  "cells": [
    {
      "cell_type": "markdown",
      "source": [
        "1-Write a Python program to find 4 numbers from an array such that the sum of 4 numbers equal to a given number.\n",
        "\n",
        "Input : [1, 0, -1, 0, -2, 2,10,11], 0)\n",
        "Output : [[-2, -1, 1, 2], [-2, 0, 0, 2], [-1, 0, 0, 1]]\n",
        "\n",
        "2-Write a Python program to find the single element appears once in a list where every element appears multiple times except for one.\n",
        "\n",
        "Input : [1, 1, 1, 2, 2, 2, 3]\n",
        "Output : 3\n",
        "\n",
        "3-Write a Python program to add the digits of a positive integer repeatedly until the result has a single digit.\n",
        "\n",
        "Input : 48\n",
        "Output : 3\n",
        "For example given number is 59, the result will be 5.\n",
        "Step 1: 5 + 9 = 14\n",
        "Step 1: 1 + 4 = 5"
      ],
      "metadata": {
        "id": "-YVB9XycTB-4"
      }
    },
    {
      "cell_type": "code",
      "execution_count": 23,
      "metadata": {
        "id": "CC6ui6wvS-6c",
        "colab": {
          "base_uri": "https://localhost:8080/"
        },
        "outputId": "ae57c693-8800-4259-f09f-20c836ebd002"
      },
      "outputs": [
        {
          "output_type": "stream",
          "name": "stdout",
          "text": [
            "[[-2, -1, 1, 2], [-2, 0, 0, 2], [-1, 0, 0, 1]]\n"
          ]
        }
      ],
      "source": [
        "#1-Write a Python program to find 4 numbers from an array such that the sum of 4 numbers equal to a given number.\n",
        "\n",
        "#Input : [1, 0, -1, 0, -2, 2,10,11], 0) Output : [[-2, -1, 1, 2], [-2, 0, 0, 2], [-1, 0, 0, 1]]\n",
        "\n",
        "\n",
        "class Solution:\n",
        "  def foursum(self, nums, target):\n",
        "    r=[]\n",
        "    nums.sort()\n",
        "    for i in range(len(nums)-3):\n",
        "      if i>0 and nums[i]==nums[i-1]: continue\n",
        "      for j in range(i+1, len(nums)-2):\n",
        "        if j>i+1 and nums[j]==nums[j-1]: continue\n",
        "        k= j+1\n",
        "        l=  len(nums)-1\n",
        "        while k<l:\n",
        "          s= nums[i]+nums[j]+nums[k]+nums[l]\n",
        "          if s==target:\n",
        "            r.append([nums[i],nums[j],nums[k],nums[l]])\n",
        "            while k<l and nums[k]==nums[k+1]: k+=1\n",
        "            while k<l and nums[l]==nums[l-1]: l-=1\n",
        "            k+=1;l-=1\n",
        "          elif s>target:\n",
        "            l-=1\n",
        "          else:\n",
        "            k+=1\n",
        "    return r\n",
        "\n",
        "\n",
        "\n",
        "s= Solution()\n",
        "n=[1, 0, -1, 0, -2, 2,10,11]\n",
        "t=0\n",
        "r= s.foursum(n, t)\n",
        "print(r)"
      ]
    },
    {
      "cell_type": "code",
      "source": [
        "#2-Write a Python program to find the single element appears once in a list where every element appears multiple times except for one.\n",
        "\n",
        "#Input : [1, 1, 1, 2, 2, 2, 3] Output : 3\n",
        "\n",
        "class Solutionone:\n",
        "  def appear(self, l):\n",
        "\n",
        "    for i in range(len(l)):\n",
        "      c=0\n",
        "      for j in range(len(l)):\n",
        "        if i!=j and l[i]==l[j]:\n",
        "          c+=1\n",
        "        if c==1:\n",
        "          return l[i]\n",
        "\n",
        "\n",
        "\n",
        "\n",
        "s= Solutionone()\n",
        "ip= [1,2,3,4,6,7,9,10,11,12,13,13,15]\n",
        "res= s.appear(ip)\n",
        "print(res)"
      ],
      "metadata": {
        "colab": {
          "base_uri": "https://localhost:8080/"
        },
        "id": "jxlPzuvtd-9c",
        "outputId": "507a30bd-2646-45ee-8d91-58ffe2d42d58"
      },
      "execution_count": 34,
      "outputs": [
        {
          "output_type": "stream",
          "name": "stdout",
          "text": [
            "13\n"
          ]
        }
      ]
    },
    {
      "cell_type": "code",
      "source": [
        "#3-Write a Python program to add the digits of a positive integer repeatedly until the result has a single digit.\n",
        "\n",
        "#Input : 48 Output : 3 For example given number is 59, the result will be 5. Step 1: 5 + 9 = 14 Step 1: 1 + 4 = 5\n",
        "\n",
        "class Solutiontwo:\n",
        "  def sumtodigit(self, n):\n",
        "\n",
        "    if (n == 0):\n",
        "      return 0\n",
        "    elif ( n % 9 == 0):\n",
        "      return 9\n",
        "    else:\n",
        "      return n%9\n",
        "\n",
        "\n",
        "\n",
        "\n",
        "s = Solutiontwo()\n",
        "ip= 48\n",
        "res= s.sumtodigit(ip)\n",
        "print(res)"
      ],
      "metadata": {
        "colab": {
          "base_uri": "https://localhost:8080/"
        },
        "id": "RZaRioKJgKsy",
        "outputId": "d2739737-c1f1-41a8-e003-884569dba55e"
      },
      "execution_count": 40,
      "outputs": [
        {
          "output_type": "stream",
          "name": "stdout",
          "text": [
            "3\n"
          ]
        }
      ]
    },
    {
      "cell_type": "code",
      "source": [],
      "metadata": {
        "id": "8y35LFCJZlDb"
      },
      "execution_count": null,
      "outputs": []
    }
  ]
}